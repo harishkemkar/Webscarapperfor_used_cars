{
 "cells": [
  {
   "cell_type": "markdown",
   "metadata": {},
   "source": [
    "This is a web scarpper written in python \n",
    "This will scrap the used cars data available for sale in Pune(India) \n",
    "Data obtained from this is alos attached \n",
    "\n",
    "Author :  Harish kemkar"
   ]
  },
  {
   "cell_type": "code",
   "execution_count": null,
   "metadata": {},
   "outputs": [],
   "source": [
    "import requests\n",
    "from bs4 import BeautifulSoup\n",
    "import pandas as pd\n",
    "\n",
    "r = requests.get(\"https://www.cars24.com/buy-used-cars-pune/?page=1\")\n",
    "#r = requests.get(\"https://www.cars24.com/buy-used-cars-pune/?page=2\")\n",
    "#r = requests.get(\"https://www.cars24.com/buy-used-cars-pune/?page=3\")\n",
    "#r = requests.get(\"https://www.cars24.com/buy-used-cars-pune/?page=4\")\n",
    "\n",
    "c = r.content\n",
    "\n",
    "#print(c)\n",
    "\n",
    "soup = BeautifulSoup(c,\"html.parser\")\n",
    "#print(soup)\n",
    "\n",
    "car_name =  soup.find_all(\"h3\",{\"class\":\"_1Nvyc _1Corb\"})\n",
    "model_date =  soup.find_all(\"li\",{\"itemprop\":\"modelDate\"})\n",
    "engine_type =  soup.find_all(\"span\",{\"class\":\"_36qGZ\"})\n",
    "\n",
    "#<li><span>•</span> <!-- -->52,614 km</li\n",
    "#<li itemprop=\"modelDate\">2016</li>\n",
    "#span itemprop=\"name\" class=\"_36qGZ\">Diesel</spa\n",
    "#soup.find_all(\"div\",{\"class\":\"propertyRow\"})\n",
    "\n",
    "len(car_name)\n",
    "len(model_date)\n",
    "\n",
    "print(car_name)\n",
    "print(model_date)\n",
    "print(engine_type)\n",
    "\n",
    "\n",
    "\n",
    "km_data = []\n",
    "\n",
    "for Li_tag in soup.find_all(\"li\"):\n",
    "    for span_tag in Li_tag.find_all(\"span\"):\n",
    "        if span_tag.text == \"•\":\n",
    "           # print(\"• found\")\n",
    "           # print(Li_tag)\n",
    "           # print(span_tag)\n",
    "        #words = soup.body.get_text()\n",
    "           \n",
    "            text_body = Li_tag.get_text()\n",
    "            #print(text_body)\n",
    "            if \"km\" in text_body:\n",
    "                #print(\"km detail found\")\n",
    "                text_body =  text_body.replace(\"• \",\"\")\n",
    "                km_data.append(text_body)\n",
    "                print(text_body)\n",
    "        \n",
    "        \n",
    "#len(km_data)\n",
    "\n",
    "## Extracting car Features \n",
    "\n",
    "list_car = []\n",
    "for i in range(len(car_name)):\n",
    "    d = {}\n",
    "    try:\n",
    "     d[\"car_name\"] = car_name[i].text\n",
    "    except:\n",
    "        d[\"car_name\"] =  \"no name\"\n",
    "\n",
    "    try:\n",
    "        d[\"model_date\"] = model_date[i].text\n",
    "    except:\n",
    "        d[\"model_date\"] = \"NO Model_date \"\n",
    "        \n",
    "    try:\n",
    "        d[\"engine_type\"] = engine_type[i].text\n",
    "    except:\n",
    "        d[\"engine_type\"] = \"Engine type not avaailable\"\n",
    "    try:\n",
    "        d[\"km_data\"] =  km_data[i]\n",
    "    except:\n",
    "        d[\"km_data\"] =  \"km data not avaailable\"\n",
    "\n",
    "    list_car.append(d)\n",
    "    \n",
    " \n",
    "\n",
    "df = pd.DataFrame(list_car)\n"
   ]
  },
  {
   "cell_type": "code",
   "execution_count": null,
   "metadata": {},
   "outputs": [],
   "source": [
    "print(df)\n"
   ]
  },
  {
   "cell_type": "code",
   "execution_count": null,
   "metadata": {},
   "outputs": [],
   "source": [
    "## Execute this for the first iteration\n",
    "df.to_csv(\"<Local path>/output.csv\",index = False )"
   ]
  },
  {
   "cell_type": "code",
   "execution_count": null,
   "metadata": {},
   "outputs": [],
   "source": [
    "## Execute below for all other iteration\n",
    "df.to_csv(\"<Local path>//output.csv\",mode = 'a',header = False,index = False )"
   ]
  }
 ],
 "metadata": {
  "kernelspec": {
   "display_name": "Python 3",
   "language": "python",
   "name": "python3"
  },
  "language_info": {
   "codemirror_mode": {
    "name": "ipython",
    "version": 3
   },
   "file_extension": ".py",
   "mimetype": "text/x-python",
   "name": "python",
   "nbconvert_exporter": "python",
   "pygments_lexer": "ipython3",
   "version": "3.7.3"
  }
 },
 "nbformat": 4,
 "nbformat_minor": 2
}
