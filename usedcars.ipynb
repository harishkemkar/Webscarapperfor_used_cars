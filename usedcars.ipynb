{
 "cells": [
  {
   "cell_type": "markdown",
   "metadata": {},
   "source": [
    "This is a web scarpper written in python \n",
    "This will scrap the used cars data available for sale in Pune(India) \n",
    "Data obtained from this is alos attached \n",
    "\n",
    "Author :  Harish kemkar"
   ]
  },
  {
   "cell_type": "code",
   "execution_count": 162,
   "metadata": {},
   "outputs": [
    {
     "name": "stdout",
     "output_type": "stream",
     "text": [
      "[<h3 class=\"_1Nvyc _1Corb\" itemprop=\"name\">Maruti Alto 800</h3>, <h3 class=\"_1Nvyc _1Corb\" itemprop=\"name\">Maruti Zen Estilo</h3>]\n",
      "[<li itemprop=\"modelDate\">2016</li>, <li itemprop=\"modelDate\">2008</li>, <li itemprop=\"modelDate\">2013</li>, <li itemprop=\"modelDate\">2007</li>, <li itemprop=\"modelDate\">2016</li>, <li itemprop=\"modelDate\">2008</li>, <li itemprop=\"modelDate\">2014</li>, <li itemprop=\"modelDate\">2011</li>, <li itemprop=\"modelDate\">2018</li>, <li itemprop=\"modelDate\">2015</li>, <li itemprop=\"modelDate\">2003</li>, <li itemprop=\"modelDate\">2014</li>, <li itemprop=\"modelDate\">2018</li>, <li itemprop=\"modelDate\">2012</li>, <li itemprop=\"modelDate\">2016</li>, <li itemprop=\"modelDate\">2016</li>, <li itemprop=\"modelDate\">2006</li>, <li itemprop=\"modelDate\">2001</li>, <li itemprop=\"modelDate\">2008</li>, <li itemprop=\"modelDate\">2018</li>]\n",
      "[<span class=\"_36qGZ\" itemprop=\"name\">Petrol</span>, <span class=\"_36qGZ\" itemprop=\"name\">Petrol</span>, <span class=\"_36qGZ\" itemprop=\"name\">Diesel</span>, <span class=\"_36qGZ\" itemprop=\"name\">Petrol</span>, <span class=\"_36qGZ\" itemprop=\"name\">Diesel</span>, <span class=\"_36qGZ\" itemprop=\"name\">Petrol</span>, <span class=\"_36qGZ\" itemprop=\"name\">Diesel</span>, <span class=\"_36qGZ\" itemprop=\"name\">Petrol</span>, <span class=\"_36qGZ\" itemprop=\"name\">Petrol</span>, <span class=\"_36qGZ\" itemprop=\"name\">Petrol</span>, <span class=\"_36qGZ\" itemprop=\"name\">Petrol</span>, <span class=\"_36qGZ\" itemprop=\"name\">Diesel</span>, <span class=\"_36qGZ\" itemprop=\"name\">Petrol</span>, <span class=\"_36qGZ\" itemprop=\"name\">Diesel</span>, <span class=\"_36qGZ\" itemprop=\"name\">Petrol</span>, <span class=\"_36qGZ\" itemprop=\"name\">Petrol + CNG</span>, <span class=\"_36qGZ\" itemprop=\"name\">Petrol</span>, <span class=\"_36qGZ\" itemprop=\"name\">Petrol</span>, <span class=\"_36qGZ\" itemprop=\"name\">Petrol + CNG</span>, <span class=\"_36qGZ\" itemprop=\"name\">Diesel</span>]\n",
      "[<strong class=\"_1_oF1\">₹2,81,000</strong>, <strong class=\"_1_oF1\">₹1,34,900</strong>, <strong class=\"_1_oF1\">₹13,50,000</strong>, <strong class=\"_1_oF1\">₹85,000</strong>, <strong class=\"_1_oF1\">₹4,60,000</strong>, <strong class=\"_1_oF1\">₹60,000</strong>, <strong class=\"_1_oF1\">₹5,50,000</strong>, <strong class=\"_1_oF1\">₹2,60,000</strong>, <strong class=\"_1_oF1\">₹9,40,000</strong>, <strong class=\"_1_oF1\">₹4,30,000</strong>, <strong class=\"_1_oF1\">₹25,000</strong>, <strong class=\"_1_oF1\">₹3,60,000</strong>, <strong class=\"_1_oF1\">₹8,54,000</strong>, <strong class=\"_1_oF1\">₹1,35,075</strong>, <strong class=\"_1_oF1\">₹5,00,000</strong>, <strong class=\"_1_oF1\">₹3,30,000</strong>, <strong class=\"_1_oF1\">₹1,50,000</strong>, <strong class=\"_1_oF1\">₹15,000</strong>, <strong class=\"_1_oF1\">₹1,00,000</strong>, <strong class=\"_1_oF1\">₹3,50,000</strong>]\n",
      "31,054 km\n",
      "60,421 km\n",
      "51,190 km\n",
      "2,06,783 km\n",
      "47,386 km\n",
      "40,258 km\n",
      "1,39,761 km\n",
      "48,936 km\n",
      "22,722 km\n",
      "51,024 km\n",
      "77,897 km\n",
      "1,06,830 km\n",
      "12,587 km\n",
      "96,729 km\n",
      "16,682 km\n",
      "52,167 km\n",
      "63,783 km\n",
      "1,01,272 km\n",
      "1,09,536 km\n",
      "90,376 km\n"
     ]
    }
   ],
   "source": [
    "import requests\n",
    "from bs4 import BeautifulSoup\n",
    "import pandas as pd\n",
    "import matplotlib.pyplot as plt\n",
    "\n",
    "#r = requests.get(\"https://www.cars24.com/buy-used-cars-pune/?page=1\")\n",
    "#r = requests.get(\"https://www.cars24.com/buy-used-cars-pune/?page=2\")\n",
    "#r = requests.get(\"https://www.cars24.com/buy-used-cars-pune/?page=3\")\n",
    "r = requests.get(\"https://www.cars24.com/buy-used-cars-pune/?page=4\")\n",
    "\n",
    "c = r.content\n",
    "\n",
    "#print(c)\n",
    "\n",
    "soup = BeautifulSoup(c,\"html.parser\")\n",
    "#print(soup)\n",
    "\n",
    "car_name =  soup.find_all(\"h3\",{\"class\":\"_1Nvyc _1Corb\"})\n",
    "model_date =  soup.find_all(\"li\",{\"itemprop\":\"modelDate\"})\n",
    "engine_type =  soup.find_all(\"span\",{\"class\":\"_36qGZ\"})\n",
    "price_exp = soup.find_all(\"strong\",{\"class\":\"_1_oF1\"})\n",
    "\n",
    "\n",
    "#<strong class=\"_1_oF1\n",
    "\n",
    "#<li><span>•</span> <!-- -->52,614 km</li\n",
    "#<li itemprop=\"modelDate\">2016</li>\n",
    "#span itemprop=\"name\" class=\"_36qGZ\">Diesel</spa\n",
    "#soup.find_all(\"div\",{\"class\":\"propertyRow\"})\n",
    "\n",
    "len(car_name)\n",
    "len(model_date)\n",
    "len(price_exp)\n",
    "\n",
    "print(car_name)\n",
    "print(model_date)\n",
    "print(engine_type)\n",
    "print(price_exp)\n",
    "\n",
    "\n",
    "km_data = []\n",
    "\n",
    "for Li_tag in soup.find_all(\"li\"):\n",
    "    for span_tag in Li_tag.find_all(\"span\"):\n",
    "        if span_tag.text == \"•\":\n",
    "           # print(\"• found\")\n",
    "           # print(Li_tag)\n",
    "           # print(span_tag)\n",
    "        #words = soup.body.get_text()\n",
    "           \n",
    "            text_body = Li_tag.get_text()\n",
    "            #print(text_body)\n",
    "            if \"km\" in text_body:\n",
    "                #print(\"km detail found\")\n",
    "                text_body =  text_body.replace(\"• \",\"\")\n",
    "                km_data.append(text_body)\n",
    "                print(text_body)\n",
    "        \n",
    "        \n",
    "#len(km_data)\n",
    "\n",
    "## Extracting car Features \n",
    "\n",
    "list_car = []\n",
    "for i in range(len(car_name)):\n",
    "    d = {}\n",
    "    try:\n",
    "     d[\"car_name\"] = car_name[i].text\n",
    "    except:\n",
    "        d[\"car_name\"] =  \"no name\"\n",
    "\n",
    "    try:\n",
    "        d[\"model_date\"] = model_date[i].text\n",
    "    except:\n",
    "        d[\"model_date\"] = \"NO Model_date \"\n",
    "        \n",
    "    try:\n",
    "        d[\"engine_type\"] = engine_type[i].text\n",
    "    except:\n",
    "        d[\"engine_type\"] = \"Engine type not avaailable\"\n",
    "    try:\n",
    "        d[\"km_data\"] =  km_data[i]\n",
    "    except:\n",
    "        d[\"km_data\"] =  \"km data not avaailable\"\n",
    "\n",
    "    try:\n",
    "     d[\"price_exp_rs\"] = price_exp[i].text.replace(\"₹\",\"\")\n",
    "    except:\n",
    "        d[\"price_exp\"] =  \"no expected price given\"\n",
    "\n",
    "    \n",
    "    list_car.append(d)\n",
    "    \n",
    " \n",
    "\n",
    "df = pd.DataFrame(list_car)\n",
    "\n",
    "\n"
   ]
  },
  {
   "cell_type": "code",
   "execution_count": 150,
   "metadata": {},
   "outputs": [
    {
     "name": "stdout",
     "output_type": "stream",
     "text": [
      "            car_name engine_type    km_data model_date price_exp_rs\n",
      "0    Maruti Alto 800      Petrol  31,054 km       2016     2,81,000\n",
      "1  Maruti Zen Estilo      Petrol  60,421 km       2008     1,34,900\n"
     ]
    }
   ],
   "source": [
    "print(df)\n"
   ]
  },
  {
   "cell_type": "code",
   "execution_count": 157,
   "metadata": {},
   "outputs": [],
   "source": [
    "## Execute this for the first iteration\n",
    "df.to_csv(\"E:/Harish/DataScience/webscrapper/output.csv\",index = False )"
   ]
  },
  {
   "cell_type": "code",
   "execution_count": 163,
   "metadata": {},
   "outputs": [],
   "source": [
    "## Execute below for all other iteration\n",
    "df.to_csv(\"E:/Harish/DataScience/webscrapper//output.csv\",mode = 'a',header = False,index = False )"
   ]
  },
  {
   "cell_type": "code",
   "execution_count": 168,
   "metadata": {},
   "outputs": [],
   "source": [
    "## Read from the file created \n",
    "\n",
    "df_out = pd.read_csv('E:/Harish/DataScience/webscrapper/output.csv',delimiter = ',',engine = 'python')\n",
    "\n",
    "\n"
   ]
  },
  {
   "cell_type": "code",
   "execution_count": 169,
   "metadata": {},
   "outputs": [
    {
     "name": "stdout",
     "output_type": "stream",
     "text": [
      "Index(['car_name', 'engine_type', 'km_data', 'model_date', 'price_exp_rs'], dtype='object')\n"
     ]
    },
    {
     "data": {
      "text/plain": [
       "car_name        62\n",
       "engine_type     62\n",
       "km_data         62\n",
       "model_date      62\n",
       "price_exp_rs    62\n",
       "dtype: int64"
      ]
     },
     "execution_count": 169,
     "metadata": {},
     "output_type": "execute_result"
    }
   ],
   "source": [
    "## Analysis of the data scrapped  \n",
    "## Expolring Data sets \n",
    "\n",
    "\n",
    "#df_heart['target'].value_counts()\n",
    "\n",
    "\n",
    "print(df_out.columns)\n",
    "# Index(['car_name', 'engine_type', 'km_data', 'model_date'], dtype='object')\n",
    "\n",
    "df_out.isnull().any()\n",
    "## No Null values in any coulmmns \n",
    "\n",
    "df_out.count()\n",
    "## 62 records in the datasets\n",
    "\n",
    "## Out of all the available cars number of petrol/Diesel/Petrol+CNG cars available for sale  \n",
    "\n",
    "#len(df_out[df_out[\"engine_type\"] == 'Petrol']) 54/62\n",
    "#len(df_out[df_out[\"engine_type\"] == 'Diesel']) 5/62\n",
    "#len(df_out[df_out[\"engine_type\"] == 'Petrol + CNG']) 3/62\n",
    "\n"
   ]
  },
  {
   "cell_type": "code",
   "execution_count": 170,
   "metadata": {},
   "outputs": [
    {
     "data": {
      "image/png": "[encoded data removed]",
      "text/plain": [
       "<Figure size 432x288 with 1 Axes>"
      ]
     },
     "metadata": {
      "needs_background": "light"
     },
     "output_type": "display_data"
    }
   ],
   "source": [
    "## PLotting Bargraph for engine types\n",
    "\n",
    "petrol_car = len(df_out[df_out[\"engine_type\"] == 'Petrol'])\n",
    "petrol_CNG_car = len(df_out[df_out[\"engine_type\"] == 'Petrol + CNG'])\n",
    "diesel_car = len(df_out[df_out[\"engine_type\"] == 'Diesel'])\n",
    "\n",
    "\n",
    "engine_type =  ['Petrol','Petrol+CNG','Diesel']\n",
    "count_engine  = [petrol_car,petrol_CNG_car,diesel_car]\n",
    "\n",
    "plt.bar(engine_type,count_engine,color = 'Orange')\n",
    "plt.title('Engine Frequency')\n",
    "plt.xlabel('Engine Types')\n",
    "plt.ylabel('Numbers available for sale')\n",
    "\n",
    "plt.show()\n",
    "\n"
   ]
  }
 ],
 "metadata": {
  "kernelspec": {
   "display_name": "Python 3",
   "language": "python",
   "name": "python3"
  },
  "language_info": {
   "codemirror_mode": {
    "name": "ipython",
    "version": 3
   },
   "file_extension": ".py",
   "mimetype": "text/x-python",
   "name": "python",
   "nbconvert_exporter": "python",
   "pygments_lexer": "ipython3",
   "version": "3.7.3"
  }
 },
 "nbformat": 4,
 "nbformat_minor": 2
}
